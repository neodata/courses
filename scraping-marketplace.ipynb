{
 "cells": [
  {
   "cell_type": "code",
   "execution_count": 13,
   "metadata": {},
   "outputs": [],
   "source": [
    "from bs4 import BeautifulSoup as bs\n",
    "import requests \n",
    "import pandas as pd\n",
    "import re"
   ]
  },
  {
   "cell_type": "code",
   "execution_count": 14,
   "metadata": {},
   "outputs": [],
   "source": [
    "# Get all the pages\n",
    "\n",
    "def get_all_pages():\n",
    "    urls = []\n",
    "    page_number = 1\n",
    "    for i in range(8):\n",
    "        i = \"https://www.isel.store/page/{}/\".format(page_number)\n",
    "        page_number += 1\n",
    "        urls.append(i)\n",
    "    return urls"
   ]
  },
  {
   "cell_type": "code",
   "execution_count": 15,
   "metadata": {},
   "outputs": [],
   "source": [
    "def parse_products(url):\n",
    "    r = requests.get(url)\n",
    "    soup = bs(r.content, \"html5lib\")\n",
    "    produits = soup.find_all(\"div\", class_=\"product-description-wrapper\")\n",
    "    \n",
    "    for produit in produits:\n",
    "        try:\n",
    "            nom = produit.find(\"h2\").text.strip()\n",
    "        except AttributeError as e:\n",
    "            nom = \"\"\n",
    "            \n",
    "        \n",
    "        try:\n",
    "            prix = produit.find(\"span\", class_=\"price\").text.strip()\n",
    "        except AttributeError as e:\n",
    "            prix = \"\"\n",
    "        \n",
    "        chemin = r\"C:\\Users\\LENOVO\\Documents\\Python\\courses\\liste_produits.txt\"\n",
    "        with open(chemin, \"a\", encoding=\"utf-8\") as f:\n",
    "            f.write(f\"{nom}\\n\")\n",
    "            f.write(f\"{prix}\\n\\n\")\n",
    "           "
   ]
  },
  {
   "cell_type": "code",
   "execution_count": 16,
   "metadata": {},
   "outputs": [
    {
     "name": "stdout",
     "output_type": "stream",
     "text": [
      "On scrape https://www.isel.store/page/1/\n",
      "On scrape https://www.isel.store/page/2/\n",
      "On scrape https://www.isel.store/page/3/\n",
      "On scrape https://www.isel.store/page/4/\n",
      "On scrape https://www.isel.store/page/5/\n",
      "On scrape https://www.isel.store/page/6/\n",
      "On scrape https://www.isel.store/page/7/\n",
      "On scrape https://www.isel.store/page/8/\n"
     ]
    }
   ],
   "source": [
    "def parse_all_products():\n",
    "    pages = get_all_pages()\n",
    "    for page in pages:\n",
    "        parse_products(url=page)\n",
    "        print(f\"On scrape {page}\")\n",
    "        \n",
    "parse_all_products()"
   ]
  }
 ],
 "metadata": {
  "kernelspec": {
   "display_name": ".venv",
   "language": "python",
   "name": "python3"
  },
  "language_info": {
   "codemirror_mode": {
    "name": "ipython",
    "version": 3
   },
   "file_extension": ".py",
   "mimetype": "text/x-python",
   "name": "python",
   "nbconvert_exporter": "python",
   "pygments_lexer": "ipython3",
   "version": "3.13.0"
  }
 },
 "nbformat": 4,
 "nbformat_minor": 2
}
